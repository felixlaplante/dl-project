{
 "cells": [
  {
   "cell_type": "code",
   "execution_count": 1,
   "metadata": {
    "execution": {
     "iopub.execute_input": "2025-02-22T13:42:06.677442Z",
     "iopub.status.busy": "2025-02-22T13:42:06.677205Z",
     "iopub.status.idle": "2025-02-22T13:42:12.977520Z",
     "shell.execute_reply": "2025-02-22T13:42:12.976647Z",
     "shell.execute_reply.started": "2025-02-22T13:42:06.677419Z"
    },
    "id": "LHsE3vtOJ4AU",
    "trusted": true
   },
   "outputs": [],
   "source": [
    "import holidays\n",
    "\n",
    "import numpy as np\n",
    "import pandas as pd\n",
    "import seaborn as sns\n",
    "import matplotlib.pyplot as plt\n",
    "\n",
    "from pygam import LinearGAM, te, s, l, f\n",
    "import plotly.graph_objects as go"
   ]
  },
  {
   "cell_type": "code",
   "execution_count": null,
   "metadata": {
    "execution": {
     "iopub.execute_input": "2025-02-22T13:42:14.357501Z",
     "iopub.status.busy": "2025-02-22T13:42:14.357172Z",
     "iopub.status.idle": "2025-02-22T13:42:18.079948Z",
     "shell.execute_reply": "2025-02-22T13:42:18.078788Z",
     "shell.execute_reply.started": "2025-02-22T13:42:14.357478Z"
    },
    "id": "REedAlkfMgDl",
    "trusted": true
   },
   "outputs": [],
   "source": [
    "train_df = pd.read_csv('../data/train.csv')\n",
    "train_df['date'] = pd.to_datetime(train_df['date'], utc=True)\n",
    "train_df.set_index('date', inplace=True)\n",
    "\n",
    "test_df = pd.read_csv('../data/test.csv')\n",
    "test_df['date'] = pd.to_datetime(test_df['date'], utc=True)\n",
    "test_df.set_index('date', inplace=True)\n",
    "\n",
    "weather_df = pd.read_parquet('../data/meteo.parquet')\n",
    "weather_df['date'] = pd.to_datetime(weather_df['date'], utc=True)\n",
    "weather_df.set_index('date', inplace=True)\n",
    "\n",
    "co_emissions_df = pd.read_csv('../data/annual-co-emissions.csv')\n",
    "co_emissions_df['Year'] = pd.to_datetime(co_emissions_df['Year'].astype(str) + '-07-01', utc=True)\n",
    "co_emissions_df.set_index('Year', inplace=True)"
   ]
  },
  {
   "cell_type": "code",
   "execution_count": null,
   "metadata": {
    "execution": {
     "iopub.execute_input": "2025-02-22T13:42:48.910321Z",
     "iopub.status.busy": "2025-02-22T13:42:48.909969Z",
     "iopub.status.idle": "2025-02-22T13:42:48.915917Z",
     "shell.execute_reply": "2025-02-22T13:42:48.914794Z",
     "shell.execute_reply.started": "2025-02-22T13:42:48.910295Z"
    },
    "id": "dkU4dwM35oxa",
    "trusted": true
   },
   "outputs": [],
   "source": [
    "def load_holiday_df(df):\n",
    "    fr_holidays = holidays.FR(years=range(df.index.min().year, df.index.max().year + 1))\n",
    "    holiday_series = pd.Series({date: fr_holidays.get(date, 'No Holiday') for date in df.index}, index=df.index, name='holiday')\n",
    "    holiday_df = pd.get_dummies(holiday_series, prefix='holiday')\n",
    "    holiday_df.index = df.index \n",
    "    \n",
    "    return holiday_df"
   ]
  },
  {
   "cell_type": "code",
   "execution_count": null,
   "metadata": {
    "execution": {
     "iopub.execute_input": "2025-02-22T13:42:50.486156Z",
     "iopub.status.busy": "2025-02-22T13:42:50.485806Z",
     "iopub.status.idle": "2025-02-22T13:42:50.492159Z",
     "shell.execute_reply": "2025-02-22T13:42:50.491131Z",
     "shell.execute_reply.started": "2025-02-22T13:42:50.486126Z"
    },
    "trusted": true
   },
   "outputs": [],
   "source": [
    "weather_cols = ['t', 'ff', 'tminsol', 'pmer']\n",
    "\n",
    "def load_weather_df(wdf, df):\n",
    "    weather_df = wdf.copy()\n",
    "    \n",
    "    for col in weather_cols:\n",
    "        weather_df[col] = pd.to_numeric(weather_df[col], errors='coerce')\n",
    "    \n",
    "    weather_df = weather_df.pivot_table(\n",
    "        index='date',\n",
    "        columns='numer_sta',\n",
    "        values=weather_cols\n",
    "    )\n",
    "    \n",
    "    weather_df.dropna(thresh=int(0.95 * len(weather_df)), axis=1, inplace=True)\n",
    "    weather_df = weather_df.resample('30min').interpolate(method='cubic', limit_direction='both')\n",
    "    weather_df = weather_df.reindex(df.index)\n",
    "    \n",
    "    return weather_df"
   ]
  },
  {
   "cell_type": "code",
   "execution_count": null,
   "metadata": {
    "execution": {
     "iopub.execute_input": "2025-02-22T13:42:54.018078Z",
     "iopub.status.busy": "2025-02-22T13:42:54.017679Z",
     "iopub.status.idle": "2025-02-22T13:42:54.024343Z",
     "shell.execute_reply": "2025-02-22T13:42:54.023008Z",
     "shell.execute_reply.started": "2025-02-22T13:42:54.018047Z"
    },
    "trusted": true
   },
   "outputs": [],
   "source": [
    "def load_fr_co_emissions_df(codf, df):\n",
    "    fr_co_emissions_df = codf[codf['Entity'] == 'France'].copy()\n",
    "    fr_co_emissions_df = fr_co_emissions_df.drop(columns='Entity')\n",
    "    fr_co_emissions_df = fr_co_emissions_df.resample('30min').interpolate(method='cubic', limit_direction='both')\n",
    "    fr_co_emissions_df = fr_co_emissions_df.reindex(df.index)\n",
    "    \n",
    "    return fr_co_emissions_df\n"
   ]
  },
  {
   "cell_type": "code",
   "execution_count": null,
   "metadata": {
    "execution": {
     "iopub.execute_input": "2025-02-22T13:42:55.771775Z",
     "iopub.status.busy": "2025-02-22T13:42:55.771361Z",
     "iopub.status.idle": "2025-02-22T13:43:04.822231Z",
     "shell.execute_reply": "2025-02-22T13:43:04.820859Z",
     "shell.execute_reply.started": "2025-02-22T13:42:55.771683Z"
    },
    "trusted": true
   },
   "outputs": [],
   "source": [
    "X_weather_df = load_weather_df(weather_df, train_df)\n",
    "X_holiday_df = load_holiday_df(train_df)\n",
    "X_fr_co_emissions_df = load_fr_co_emissions_df(co_emissions_df, train_df)"
   ]
  },
  {
   "cell_type": "code",
   "execution_count": null,
   "metadata": {},
   "outputs": [],
   "source": [
    "plt.figure(figsize=(12, 10))\n",
    "sns.heatmap(train_df.isnull(), cbar=False, cmap='viridis')\n",
    "\n",
    "years = train_df.index.year\n",
    "unique_years = np.sort(np.unique(years))\n",
    "\n",
    "tick_positions = [years.tolist().index(y) for y in unique_years if y in years.tolist()]\n",
    "\n",
    "plt.yticks(ticks=tick_positions, labels=unique_years)\n",
    "plt.xlabel('Locations', fontsize=14) \n",
    "plt.ylabel('Year', fontsize=14) \n",
    "plt.title('Missing Values in Load Data', fontsize=16) \n",
    "\n",
    "plt.tight_layout(pad=2.0) \n",
    "plt.savefig(\"figures/nan.png\", dpi=300)\n",
    "plt.close()"
   ]
  },
  {
   "cell_type": "code",
   "execution_count": null,
   "metadata": {},
   "outputs": [],
   "source": [
    "fr_load = train_df['France'][:48*7]\n",
    "\n",
    "fig = go.Figure(go.Scatter(x=fr_load.index, y=fr_load.values, mode='lines', name='France load'))\n",
    "\n",
    "fig.update_layout(title=\"France load during a week\", xaxis_title='Date', yaxis_title='France Load')\n",
    "fig.write_image(\"figures/load_wk.png\", scale=2)\n"
   ]
  },
  {
   "cell_type": "code",
   "execution_count": null,
   "metadata": {},
   "outputs": [],
   "source": [
    "fr_load = train_df['France']\n",
    "fr_load_smooth = train_df['France'].rolling(window=48*30, center=True).mean()\n",
    "\n",
    "fig = go.Figure()\n",
    "fig.add_trace(go.Scatter(x=fr_load.index, y=fr_load.values, mode='lines', name='France load'))\n",
    "fig.add_trace(go.Scatter(x=fr_load_smooth.index, y=fr_load_smooth.values, mode='lines', name='Smoothed France load'))\n",
    "\n",
    "lockdown_start = pd.to_datetime('2020-03-17')\n",
    "lockdown_end = pd.to_datetime('2020-05-11')\n",
    "\n",
    "fig.add_shape(type=\"line\", x0=lockdown_start, x1=lockdown_start, y0=fr_load.min(), y1=fr_load.max(), line=dict(color=\"orange\", width=2, dash=\"dash\"))\n",
    "fig.add_shape(type=\"line\", x0=lockdown_end, x1=lockdown_end, y0=fr_load.min(), y1=fr_load.max(), line=dict(color=\"orange\", width=2, dash=\"dash\"))\n",
    "\n",
    "fig.update_layout(title=\"France load throughout the years\", xaxis_title='Date', yaxis_title='France Load')\n",
    "fig.write_image(\"figures/load_yr.png\", scale=2)\n"
   ]
  },
  {
   "cell_type": "code",
   "execution_count": null,
   "metadata": {},
   "outputs": [],
   "source": [
    "weekday = train_df.index.weekday.values.astype(float).reshape(-1, 1)\n",
    "fr_load = train_df['France'].values.reshape(-1, 1)\n",
    "\n",
    "weekday_means = train_df.groupby(train_df.index.weekday)['France'].mean()\n",
    "unique_weekdays = np.unique(weekday)\n",
    "weekday_names = ['Monday', 'Tuesday', 'Wednesday', 'Thursday', 'Friday', 'Saturday', 'Sunday']\n",
    "\n",
    "fig = go.Figure()\n",
    "\n",
    "for i, day in enumerate(weekday_names):\n",
    "    fig.add_trace(go.Bar(x=[day], y=[weekday_means[i]], name=day,))\n",
    "\n",
    "fig.update_layout(title='Mean Load Values by Weekday', xaxis_title='Weekday', yaxis_title='Mean France Load', legend_title='Weekdays', yaxis=dict(range=[min(weekday_means) - 2000, max(weekday_means) + 2000]))\n",
    "fig.write_image(\"figures/weekday_load.png\", scale=2)"
   ]
  },
  {
   "cell_type": "code",
   "execution_count": null,
   "metadata": {
    "execution": {
     "iopub.execute_input": "2025-02-22T14:55:21.551065Z",
     "iopub.status.busy": "2025-02-22T14:55:21.550652Z"
    },
    "trusted": true
   },
   "outputs": [],
   "source": [
    "mean_t = X_weather_df['t'].mean(axis=1).values.reshape(-1, 1)\n",
    "weekday = train_df.index.weekday.values.astype(float).reshape(-1, 1)\n",
    "\n",
    "fr_load = train_df['France'].values.reshape(-1, 1)\n",
    "\n",
    "X = np.hstack([mean_t, weekday])\n",
    "gam = LinearGAM(te(0, 1)).fit(X, fr_load)\n",
    "fr_pred = gam.predict(X)\n",
    "unique_weekdays = np.unique(weekday)\n",
    "weekday_names = ['Monday', 'Tuesday', 'Wednesday', 'Thursday', 'Friday', 'Saturday', 'Sunday']\n",
    "\n",
    "perm = np.argsort(mean_t.ravel())\n",
    "\n",
    "fig = go.Figure(go.Scatter(x=mean_t.ravel(), y=fr_load, mode='markers', name='Actual load', marker=dict(color='grey', size=1)))\n",
    "\n",
    "for wd in unique_weekdays:\n",
    "    mask = weekday[perm].ravel() == wd\n",
    "    fig.add_trace(go.Scatter(x=mean_t[perm][mask], y=fr_pred[perm][mask], mode='lines', name=weekday_names[int(wd)]))\n",
    "\n",
    "fig.update_layout(title=\"France load with temperature\", xaxis_title='Mean Temperature', yaxis_title='France Load')\n",
    "fig.write_image(\"figures/gam_temp.png\", scale=2)"
   ]
  },
  {
   "cell_type": "code",
   "execution_count": null,
   "metadata": {},
   "outputs": [],
   "source": [
    "mean_t = X_weather_df['t'].mean(axis=1).values.reshape(-1, 1)\n",
    "mean_tminsol = X_weather_df['tminsol'].mean(axis=1).values.reshape(-1, 1)\n",
    "mean_ff = X_weather_df['ff'].mean(axis=1).values.reshape(-1, 1)\n",
    "mean_pmer = X_weather_df['pmer'].mean(axis=1).values.reshape(-1, 1)\n",
    "doy = train_df.index.dayofyear.values.reshape(-1, 1)\n",
    "mod = train_df.index.astype('int64').values.reshape(-1, 1) // 1e9 % 86400\n",
    "weekday = train_df.index.weekday.values.astype(np.float32).reshape(-1, 1)\n",
    "holiday = np.argmax(X_holiday_df.values, axis=1).reshape(-1, 1)\n",
    "fr_co_emissions = X_fr_co_emissions_df.values.reshape(-1, 1)\n",
    "\n",
    "fr_load = train_df['France'].values.reshape(-1, 1)\n",
    "\n",
    "X = np.hstack([weekday, mean_t, mean_tminsol, mean_ff, mean_pmer, doy, mod, holiday])\n",
    "\n",
    "gam = LinearGAM(te(0, 1) + s(2) + s(3) + s(4) + s(5) + s(6) + s(7) + f(7)).fit(X, fr_load)\n",
    "res = fr_load - gam.predict(X).reshape(-1, 1)\n",
    "\n",
    "gam = LinearGAM(l(0)).fit(fr_co_emissions, res)\n",
    "res_pred = gam.predict(fr_co_emissions)\n",
    "\n",
    "perm = np.argsort(fr_co_emissions.ravel())\n",
    "\n",
    "fig = go.Figure()\n",
    "fig.add_trace(go.Scatter(x=fr_co_emissions, y=res.ravel(), mode='markers', name='Actual residuals', marker=dict(color='grey', size=1)))\n",
    "fig.add_trace(go.Scatter(x=fr_co_emissions[perm], y=res_pred[perm].ravel(), mode='lines', name='Predicted residuals'))\n",
    "\n",
    "fig.update_layout(title=\"Residuals with CO2 emissions\", xaxis_title='CO2 Emissions', yaxis_title='Residuals')\n",
    "fig.write_image(\"figures/gam_emissions.png\", scale=2)"
   ]
  },
  {
   "cell_type": "code",
   "execution_count": null,
   "metadata": {},
   "outputs": [
    {
     "name": "stdout",
     "output_type": "stream",
     "text": [
      "LinearGAM                                                                                                 \n",
      "=============================================== ==========================================================\n",
      "Distribution:                        NormalDist Effective DoF:                                    142.3072\n",
      "Link Function:                     IdentityLink Log Likelihood:                              -1436449.0606\n",
      "Number of Samples:                        85571 AIC:                                          2873184.7356\n",
      "                                                AICc:                                         2873185.2198\n",
      "                                                GCV:                                          7808261.7735\n",
      "                                                Scale:                                        7784891.5539\n",
      "                                                Pseudo R-Squared:                                   0.9414\n",
      "==========================================================================================================\n",
      "Feature Function                  Lambda               Rank         EDoF         P > x        Sig. Code   \n",
      "================================= ==================== ============ ============ ============ ============\n",
      "te(0, 1)                          [0.6 0.6]            100          45.3         1.11e-16     ***         \n",
      "s(2)                              [0.6]                20           15.7         1.11e-16     ***         \n",
      "s(3)                              [0.6]                20           16.3         1.11e-16     ***         \n",
      "s(4)                              [0.6]                20           16.3         1.11e-16     ***         \n",
      "s(5)                              [0.6]                20           18.3         1.11e-16     ***         \n",
      "s(6)                              [0.6]                20           18.6         1.11e-16     ***         \n",
      "f(7)                              [0.6]                12           10.9         1.11e-16     ***         \n",
      "l(8)                              [0.6]                1            1.0          1.11e-16     ***         \n",
      "intercept                                              1            0.0          1.11e-16     ***         \n",
      "==========================================================================================================\n",
      "Significance codes:  0 '***' 0.001 '**' 0.01 '*' 0.05 '.' 0.1 ' ' 1\n",
      "\n",
      "WARNING: Fitting splines and a linear function to a feature introduces a model identifiability problem\n",
      "         which can cause p-values to appear significant when they are not.\n",
      "\n",
      "WARNING: p-values calculated in this manner behave correctly for un-penalized models or models with\n",
      "         known smoothing parameters, but when smoothing parameters have been estimated, the p-values\n",
      "         are typically lower than they should be, meaning that the tests reject the null too readily.\n",
      "None\n"
     ]
    },
    {
     "name": "stderr",
     "output_type": "stream",
     "text": [
      "C:\\Users\\flheight\\AppData\\Local\\Temp\\ipykernel_9788\\1362870797.py:16: UserWarning:\n",
      "\n",
      "KNOWN BUG: p-values computed in this summary are likely much smaller than they should be. \n",
      " \n",
      "Please do not make inferences based on these values! \n",
      "\n",
      "Collaborate on a solution, and stay up to date at: \n",
      "github.com/dswah/pyGAM/issues/163 \n",
      "\n",
      "\n"
     ]
    }
   ],
   "source": [
    "mean_t = X_weather_df['t'].mean(axis=1).values.reshape(-1, 1)\n",
    "mean_tminsol = X_weather_df['tminsol'].mean(axis=1).values.reshape(-1, 1)\n",
    "mean_ff = X_weather_df['ff'].mean(axis=1).values.reshape(-1, 1)\n",
    "mean_pmer = X_weather_df['pmer'].mean(axis=1).values.reshape(-1, 1)\n",
    "doy = train_df.index.dayofyear.values.reshape(-1, 1)\n",
    "mod = train_df.index.astype('int64').values.reshape(-1, 1) // 1e9 % 86400\n",
    "weekday = train_df.index.weekday.values.astype(np.float32).reshape(-1, 1)\n",
    "holiday = np.argmax(X_holiday_df.values, axis=1).reshape(-1, 1)\n",
    "fr_co_emissions = X_fr_co_emissions_df.values.reshape(-1, 1)\n",
    "\n",
    "fr_load = train_df['France'].values.reshape(-1, 1)\n",
    "\n",
    "X = np.hstack([weekday, mean_t, mean_tminsol, mean_ff, mean_pmer, doy, mod, holiday, fr_co_emissions])\n",
    "gam = LinearGAM(te(0, 1) + s(2) + s(3) + s(4) + s(5) + s(6) + f(7) + l(8)).fit(X, fr_load)\n",
    "\n",
    "print(gam.summary())"
   ]
  }
 ],
 "metadata": {
  "accelerator": "GPU",
  "colab": {
   "gpuType": "T4",
   "provenance": []
  },
  "kaggle": {
   "accelerator": "none",
   "dataSources": [
    {
     "datasetId": 6633156,
     "isSourceIdPinned": true,
     "sourceId": 10777060,
     "sourceType": "datasetVersion"
    },
    {
     "datasetId": 6715505,
     "sourceId": 10816477,
     "sourceType": "datasetVersion"
    }
   ],
   "dockerImageVersionId": 30918,
   "isGpuEnabled": false,
   "isInternetEnabled": true,
   "language": "python",
   "sourceType": "notebook"
  },
  "kernelspec": {
   "display_name": "Python 3",
   "language": "python",
   "name": "python3"
  },
  "language_info": {
   "codemirror_mode": {
    "name": "ipython",
    "version": 3
   },
   "file_extension": ".py",
   "mimetype": "text/x-python",
   "name": "python",
   "nbconvert_exporter": "python",
   "pygments_lexer": "ipython3",
   "version": "3.12.4"
  }
 },
 "nbformat": 4,
 "nbformat_minor": 4
}
